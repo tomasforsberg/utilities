{
 "cells": [
  {
   "cell_type": "code",
   "execution_count": 1,
   "metadata": {},
   "outputs": [],
   "source": [
    "from pathlib import Path\n",
    "import pandas as pd\n",
    "import numpy as np\n",
    "\n",
    "import sys\n",
    "sys.path.append('../utilities/')\n",
    "import column_name_mapping as cnm\n",
    "import general_tools as gt\n",
    "import dataframe_operations as do\n",
    "import data_types as dt"
   ]
  },
  {
   "cell_type": "code",
   "execution_count": 2,
   "metadata": {},
   "outputs": [],
   "source": [
    "data_raw    = pd.read_csv(Path.cwd() / '..' / 'data' / 'ml_case_training_data.csv')\n",
    "output_raw = pd.read_csv(Path.cwd() / '..' / 'data' / 'ml_case_training_output.csv')\n",
    "df = data_raw.merge(output_raw, how='inner', on='id')"
   ]
  },
  {
   "cell_type": "code",
   "execution_count": 3,
   "metadata": {},
   "outputs": [
    {
     "name": "stdout",
     "output_type": "stream",
     "text": [
      "Available dtypes: ['object', 'float64', 'int64']\n"
     ]
    }
   ],
   "source": [
    "dtype_summary = dt.dtype_summarizer(df)"
   ]
  },
  {
   "cell_type": "code",
   "execution_count": 6,
   "metadata": {},
   "outputs": [
    {
     "name": "stdout",
     "output_type": "stream",
     "text": [
      "|---------------------------------------\n",
      "| int64 \n",
      "|\n",
      "|     cons_12m , sample:  [309275      0   4660] \n",
      "|\n",
      "|     cons_gas_12m , sample:  [      0   54946 1542867] \n",
      "|\n",
      "|     cons_last_month , sample:  [10025     0 12400] \n",
      "|\n",
      "|     forecast_cons_year , sample:  [10025     0 12400] \n",
      "|\n",
      "|     nb_prod_act , sample:  [1 2 3] \n",
      "|\n",
      "|     num_years_antig , sample:  [3 6 4] \n",
      "|\n",
      "|     churn , sample:  [0 1] \n",
      "|\n"
     ]
    }
   ],
   "source": [
    "dtype_summary.print_type('int64')"
   ]
  }
 ],
 "metadata": {
  "kernelspec": {
   "display_name": "Python 3",
   "language": "python",
   "name": "python3"
  },
  "language_info": {
   "codemirror_mode": {
    "name": "ipython",
    "version": 3
   },
   "file_extension": ".py",
   "mimetype": "text/x-python",
   "name": "python",
   "nbconvert_exporter": "python",
   "pygments_lexer": "ipython3",
   "version": "3.7.4"
  }
 },
 "nbformat": 4,
 "nbformat_minor": 4
}
