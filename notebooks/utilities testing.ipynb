{
 "cells": [
  {
   "cell_type": "code",
   "execution_count": 1,
   "metadata": {},
   "outputs": [],
   "source": [
    "from pathlib import Path\n",
    "import pandas as pd\n",
    "import numpy as np\n",
    "\n",
    "import sys\n",
    "sys.path.append('../utilities/')\n",
    "import column_name_mapping as cnm\n",
    "import general_tools as gt\n",
    "import dataframe_operations as do\n",
    "import data_types as dt"
   ]
  },
  {
   "cell_type": "code",
   "execution_count": 2,
   "metadata": {},
   "outputs": [],
   "source": [
    "data_raw    = pd.read_csv(Path.cwd() / '..' / 'data' / 'ml_case_training_data.csv')\n",
    "output_raw = pd.read_csv(Path.cwd() / '..' / 'data' / 'ml_case_training_output.csv')\n",
    "df = data_raw.merge(output_raw, how='inner', on='id')"
   ]
  },
  {
   "cell_type": "code",
   "execution_count": 3,
   "metadata": {},
   "outputs": [
    {
     "name": "stdout",
     "output_type": "stream",
     "text": [
      "object\n",
      "float64\n",
      "int64\n"
     ]
    }
   ],
   "source": [
    "dtypes = {t.__str__(): [] for t in df.dtypes}\n",
    "\n",
    "for col, t in df.dtypes.items():\n",
    "    dtypes[t.__str__()].append(col)\n",
    "\n",
    "for t in dtypes:\n",
    "    print(t)"
   ]
  },
  {
   "cell_type": "code",
   "execution_count": 4,
   "metadata": {},
   "outputs": [
    {
     "name": "stdout",
     "output_type": "stream",
     "text": [
      "|---------------------------------------\n",
      "| object \n",
      "|\n",
      "|     id , sample:  ['48ada52261e7cf58715202705a0451c9' '24011ae4ebbe3035111d65fa7c15bc57'\n",
      " 'd29c2c54acc38ff3c0614d0a653813dd'] \n",
      "|\n",
      "|     activity_new , sample:  ['esoiiifxdlbkcsluxmfuacbdckommixw' nan 'sfisfxfcocfpcmckuekokxuseixdaoeu'] \n",
      "|\n",
      "|     channel_sales , sample:  ['lmkebamcaaclubfxadlmueccxoimlema' 'foosdfpfkusacimwkcsosbicdxkicaua' nan] \n",
      "|\n",
      "|     date_activ , sample:  ['2012-11-07' '2013-06-15' '2009-08-21'] \n",
      "|\n",
      "|     date_end , sample:  ['2016-11-06' '2016-06-15' '2016-08-30'] \n",
      "|\n",
      "|     date_first_activ , sample:  [nan '2010-04-08' '2011-12-09'] \n",
      "|\n",
      "|     date_modif_prod , sample:  ['2012-11-07' nan '2009-08-21'] \n",
      "|\n",
      "|     date_renewal , sample:  ['2015-11-09' '2015-06-23' '2015-08-31'] \n",
      "|\n",
      "|     has_gas , sample:  ['f' 't'] \n",
      "|\n",
      "|     origin_up , sample:  ['ldkssxwpmemidmecebumciepifcamkci' 'lxidpiddsbxsbosboudacockeimpuepw'\n",
      " 'kamkkxfxxuwbdslkwifmmcsiusiuosws'] \n",
      "|\n",
      "|---------------------------------------\n",
      "| float64 \n",
      "|\n",
      "|     campaign_disc_ele , sample:  [nan] \n",
      "|\n",
      "|     forecast_base_bill_ele , sample:  [    nan 1399.83  290.1 ] \n",
      "|\n",
      "|     forecast_base_bill_year , sample:  [    nan 1399.83  290.1 ] \n",
      "|\n",
      "|     forecast_bill_12m , sample:  [     nan 14559.74  1412.54] \n",
      "|\n",
      "|     forecast_cons , sample:  [    nan 1052.37  181.21] \n",
      "|\n",
      "|     forecast_cons_12m , sample:  [26520.3      0.     189.95] \n",
      "|\n",
      "|     forecast_discount_energy , sample:  [ 0. nan 30.] \n",
      "|\n",
      "|     forecast_meter_rent_12m , sample:  [359.29   1.78  16.27] \n",
      "|\n",
      "|     forecast_price_energy_p1 , sample:  [0.095919 0.114481 0.145711] \n",
      "|\n",
      "|     forecast_price_energy_p2 , sample:  [0.088347 0.098142 0.      ] \n",
      "|\n",
      "|     forecast_price_pow_p1 , sample:  [58.99595196 40.606701   44.31137796] \n",
      "|\n",
      "|     imp_cons , sample:  [ 831.8     0.   1052.37] \n",
      "|\n",
      "|     margin_gross_pow_ele , sample:  [-41.76  25.44  16.38] \n",
      "|\n",
      "|     margin_net_pow_ele , sample:  [-41.76  25.44  16.38] \n",
      "|\n",
      "|     net_margin , sample:  [1732.36  678.99   18.89] \n",
      "|\n",
      "|     pow_max , sample:  [180.     43.648  13.8  ] \n",
      "|\n",
      "|---------------------------------------\n",
      "| int64 \n",
      "|\n",
      "|     cons_12m , sample:  [309275      0   4660] \n",
      "|\n",
      "|     cons_gas_12m , sample:  [      0   54946 1542867] \n",
      "|\n",
      "|     cons_last_month , sample:  [10025     0 12400] \n",
      "|\n",
      "|     forecast_cons_year , sample:  [10025     0 12400] \n",
      "|\n",
      "|     nb_prod_act , sample:  [1 2 3] \n",
      "|\n",
      "|     num_years_antig , sample:  [3 6 4] \n",
      "|\n",
      "|     churn , sample:  [0 1] \n",
      "|\n"
     ]
    }
   ],
   "source": [
    "dt.summarize_dtypes(df)"
   ]
  }
 ],
 "metadata": {
  "kernelspec": {
   "display_name": "Python 3",
   "language": "python",
   "name": "python3"
  },
  "language_info": {
   "codemirror_mode": {
    "name": "ipython",
    "version": 3
   },
   "file_extension": ".py",
   "mimetype": "text/x-python",
   "name": "python",
   "nbconvert_exporter": "python",
   "pygments_lexer": "ipython3",
   "version": "3.7.4"
  }
 },
 "nbformat": 4,
 "nbformat_minor": 4
}
